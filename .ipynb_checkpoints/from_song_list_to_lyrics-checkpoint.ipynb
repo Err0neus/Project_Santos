{
 "cells": [
  {
   "cell_type": "markdown",
   "metadata": {},
   "source": [
    "<b>Resources:</b>\n",
    "\n",
    "https://docs.genius.com/"
   ]
  },
  {
   "cell_type": "markdown",
   "metadata": {},
   "source": [
    "# Input"
   ]
  },
  {
   "cell_type": "code",
   "execution_count": 2,
   "metadata": {},
   "outputs": [],
   "source": [
    "#assuming full discography already created from DISCOGS API\n",
    "# import pandas and input file\n",
    "import pandas as pd\n",
    "discog = pd.read_csv('sample_discography.csv')"
   ]
  },
  {
   "cell_type": "code",
   "execution_count": 3,
   "metadata": {},
   "outputs": [
    {
     "data": {
      "text/html": [
       "<div>\n",
       "<style scoped>\n",
       "    .dataframe tbody tr th:only-of-type {\n",
       "        vertical-align: middle;\n",
       "    }\n",
       "\n",
       "    .dataframe tbody tr th {\n",
       "        vertical-align: top;\n",
       "    }\n",
       "\n",
       "    .dataframe thead th {\n",
       "        text-align: right;\n",
       "    }\n",
       "</style>\n",
       "<table border=\"1\" class=\"dataframe\">\n",
       "  <thead>\n",
       "    <tr style=\"text-align: right;\">\n",
       "      <th></th>\n",
       "      <th>year</th>\n",
       "      <th>album</th>\n",
       "      <th>track_position</th>\n",
       "      <th>track_title</th>\n",
       "    </tr>\n",
       "  </thead>\n",
       "  <tbody>\n",
       "    <tr>\n",
       "      <th>0</th>\n",
       "      <td>1984</td>\n",
       "      <td>From Her To Eternity</td>\n",
       "      <td>1</td>\n",
       "      <td>Avalanche</td>\n",
       "    </tr>\n",
       "    <tr>\n",
       "      <th>1</th>\n",
       "      <td>1984</td>\n",
       "      <td>From Her To Eternity</td>\n",
       "      <td>2</td>\n",
       "      <td>Cabin Fever!</td>\n",
       "    </tr>\n",
       "    <tr>\n",
       "      <th>2</th>\n",
       "      <td>1984</td>\n",
       "      <td>From Her To Eternity</td>\n",
       "      <td>3</td>\n",
       "      <td>Well Of Misery</td>\n",
       "    </tr>\n",
       "    <tr>\n",
       "      <th>3</th>\n",
       "      <td>1984</td>\n",
       "      <td>From Her To Eternity</td>\n",
       "      <td>4</td>\n",
       "      <td>From Her To Eternity</td>\n",
       "    </tr>\n",
       "    <tr>\n",
       "      <th>4</th>\n",
       "      <td>1984</td>\n",
       "      <td>From Her To Eternity</td>\n",
       "      <td>5</td>\n",
       "      <td>Saint Huck</td>\n",
       "    </tr>\n",
       "  </tbody>\n",
       "</table>\n",
       "</div>"
      ],
      "text/plain": [
       "   year                 album  track_position           track_title\n",
       "0  1984  From Her To Eternity               1             Avalanche\n",
       "1  1984  From Her To Eternity               2          Cabin Fever!\n",
       "2  1984  From Her To Eternity               3        Well Of Misery\n",
       "3  1984  From Her To Eternity               4  From Her To Eternity\n",
       "4  1984  From Her To Eternity               5            Saint Huck"
      ]
     },
     "execution_count": 3,
     "metadata": {},
     "output_type": "execute_result"
    }
   ],
   "source": [
    "# check input\n",
    "discog.head()"
   ]
  },
  {
   "cell_type": "markdown",
   "metadata": {},
   "source": [
    "# Pull lyrics"
   ]
  },
  {
   "cell_type": "code",
   "execution_count": 5,
   "metadata": {},
   "outputs": [],
   "source": [
    "# connection to GENIUS LYRICS API\n",
    "import lyricsgenius\n",
    "# authenticate to GENIUS.COM\n",
    "genius = lyricsgenius.Genius(\"yUrV_dD4VMSNbqnx4GERtNJAdeX1121T1OqR8nZMtbQI7Tsi1vrc2Hpxmgrb0l-S\")"
   ]
  },
  {
   "cell_type": "code",
   "execution_count": 6,
   "metadata": {},
   "outputs": [
    {
     "data": {
      "text/plain": [
       "<lyricsgenius.api.Genius at 0x1a4b88d6cf8>"
      ]
     },
     "execution_count": 6,
     "metadata": {},
     "output_type": "execute_result"
    }
   ],
   "source": [
    "# check connection\n",
    "genius"
   ]
  },
  {
   "cell_type": "code",
   "execution_count": 16,
   "metadata": {},
   "outputs": [],
   "source": [
    "# set up parameters\n",
    "genius.verbose = False # Turn off status messages\n",
    "genius.remove_section_headers = True # Remove section headers (e.g. [Chorus]) from lyrics when searching"
   ]
  },
  {
   "cell_type": "code",
   "execution_count": 22,
   "metadata": {},
   "outputs": [],
   "source": [
    "# pull lyrics for each track\n",
    "for track in discog.track_title:\n",
    "    song = genius.search_song(track, \"Nick Cave and the Bad Seeds\")\n",
    "    discog.loc[discog.track_title == track, 'lyrics'] = song.lyrics"
   ]
  },
  {
   "cell_type": "code",
   "execution_count": 38,
   "metadata": {},
   "outputs": [
    {
     "data": {
      "text/html": [
       "<div>\n",
       "<style scoped>\n",
       "    .dataframe tbody tr th:only-of-type {\n",
       "        vertical-align: middle;\n",
       "    }\n",
       "\n",
       "    .dataframe tbody tr th {\n",
       "        vertical-align: top;\n",
       "    }\n",
       "\n",
       "    .dataframe thead th {\n",
       "        text-align: right;\n",
       "    }\n",
       "</style>\n",
       "<table border=\"1\" class=\"dataframe\">\n",
       "  <thead>\n",
       "    <tr style=\"text-align: right;\">\n",
       "      <th></th>\n",
       "      <th>year</th>\n",
       "      <th>album</th>\n",
       "      <th>track_position</th>\n",
       "      <th>track_title</th>\n",
       "      <th>lyrics</th>\n",
       "    </tr>\n",
       "  </thead>\n",
       "  <tbody>\n",
       "    <tr>\n",
       "      <th>0</th>\n",
       "      <td>1984</td>\n",
       "      <td>From Her To Eternity</td>\n",
       "      <td>1</td>\n",
       "      <td>Avalanche</td>\n",
       "      <td>I stepped into an avalanche\\nIt covered up my ...</td>\n",
       "    </tr>\n",
       "    <tr>\n",
       "      <th>1</th>\n",
       "      <td>1984</td>\n",
       "      <td>From Her To Eternity</td>\n",
       "      <td>2</td>\n",
       "      <td>Cabin Fever!</td>\n",
       "      <td>The Captain's fore-arm like bunched-up rope\\nW...</td>\n",
       "    </tr>\n",
       "  </tbody>\n",
       "</table>\n",
       "</div>"
      ],
      "text/plain": [
       "   year                 album  track_position   track_title  \\\n",
       "0  1984  From Her To Eternity               1     Avalanche   \n",
       "1  1984  From Her To Eternity               2  Cabin Fever!   \n",
       "\n",
       "                                              lyrics  \n",
       "0  I stepped into an avalanche\\nIt covered up my ...  \n",
       "1  The Captain's fore-arm like bunched-up rope\\nW...  "
      ]
     },
     "execution_count": 38,
     "metadata": {},
     "output_type": "execute_result"
    }
   ],
   "source": [
    "discog.head(2)"
   ]
  },
  {
   "cell_type": "markdown",
   "metadata": {},
   "source": [
    "# Data cleaning and preparation"
   ]
  },
  {
   "cell_type": "code",
   "execution_count": 63,
   "metadata": {},
   "outputs": [],
   "source": [
    "# remove line breaks \"\\n\" from lyrics str\n",
    "discog['lyrics_cleaned'] = discog['lyrics'].apply(lambda x: x.replace('\\n',' '))\n",
    "# remove speacial characters except alphanumeric, dash \"-\" and aposhtrophy \"'\"\n",
    "import re\n",
    "discog['lyrics_cleaned'] = discog['lyrics'].apply(lambda x: re.sub(\"[^A-Za-z0-9-']+\", ' ', x))"
   ]
  },
  {
   "cell_type": "code",
   "execution_count": 40,
   "metadata": {},
   "outputs": [
    {
     "data": {
      "text/html": [
       "<div>\n",
       "<style scoped>\n",
       "    .dataframe tbody tr th:only-of-type {\n",
       "        vertical-align: middle;\n",
       "    }\n",
       "\n",
       "    .dataframe tbody tr th {\n",
       "        vertical-align: top;\n",
       "    }\n",
       "\n",
       "    .dataframe thead th {\n",
       "        text-align: right;\n",
       "    }\n",
       "</style>\n",
       "<table border=\"1\" class=\"dataframe\">\n",
       "  <thead>\n",
       "    <tr style=\"text-align: right;\">\n",
       "      <th></th>\n",
       "      <th>year</th>\n",
       "      <th>album</th>\n",
       "      <th>track_position</th>\n",
       "      <th>track_title</th>\n",
       "      <th>lyrics</th>\n",
       "      <th>lyrics_cleaned</th>\n",
       "    </tr>\n",
       "  </thead>\n",
       "  <tbody>\n",
       "    <tr>\n",
       "      <th>0</th>\n",
       "      <td>1984</td>\n",
       "      <td>From Her To Eternity</td>\n",
       "      <td>1</td>\n",
       "      <td>Avalanche</td>\n",
       "      <td>I stepped into an avalanche\\nIt covered up my ...</td>\n",
       "      <td>I stepped into an avalanche It covered up my s...</td>\n",
       "    </tr>\n",
       "    <tr>\n",
       "      <th>1</th>\n",
       "      <td>1984</td>\n",
       "      <td>From Her To Eternity</td>\n",
       "      <td>2</td>\n",
       "      <td>Cabin Fever!</td>\n",
       "      <td>The Captain's fore-arm like bunched-up rope\\nW...</td>\n",
       "      <td>The Captain's fore-arm like bunched-up rope Wi...</td>\n",
       "    </tr>\n",
       "  </tbody>\n",
       "</table>\n",
       "</div>"
      ],
      "text/plain": [
       "   year                 album  track_position   track_title  \\\n",
       "0  1984  From Her To Eternity               1     Avalanche   \n",
       "1  1984  From Her To Eternity               2  Cabin Fever!   \n",
       "\n",
       "                                              lyrics  \\\n",
       "0  I stepped into an avalanche\\nIt covered up my ...   \n",
       "1  The Captain's fore-arm like bunched-up rope\\nW...   \n",
       "\n",
       "                                      lyrics_cleaned  \n",
       "0  I stepped into an avalanche It covered up my s...  \n",
       "1  The Captain's fore-arm like bunched-up rope Wi...  "
      ]
     },
     "execution_count": 40,
     "metadata": {},
     "output_type": "execute_result"
    }
   ],
   "source": [
    "discog.head(2)"
   ]
  },
  {
   "cell_type": "code",
   "execution_count": 64,
   "metadata": {},
   "outputs": [],
   "source": [
    "# use to compare before and after cleaning\n",
    "#song_name = \"Ghosteen\"\n",
    "#print('BEFORE:')\n",
    "#print(discog.lyrics[discog.track_title==song_name].iloc[0])\n",
    "#print('AFTER:')\n",
    "#print(discog.lyrics_cleaned[discog.track_title==song_name].iloc[0])"
   ]
  },
  {
   "cell_type": "code",
   "execution_count": 69,
   "metadata": {},
   "outputs": [],
   "source": [
    "# add number of unique words in each song\n",
    "discog['unique_words'] = discog.lyrics_cleaned.apply(lambda x: len(set(x.split(' '))))"
   ]
  },
  {
   "cell_type": "markdown",
   "metadata": {},
   "source": [
    "# Save output"
   ]
  },
  {
   "cell_type": "code",
   "execution_count": 77,
   "metadata": {},
   "outputs": [],
   "source": [
    "#save output to .csv\n",
    "discog.to_csv('sample_discography_w_lyrics.csv', index =False)"
   ]
  }
 ],
 "metadata": {
  "kernelspec": {
   "display_name": "Python 3",
   "language": "python",
   "name": "python3"
  },
  "language_info": {
   "codemirror_mode": {
    "name": "ipython",
    "version": 3
   },
   "file_extension": ".py",
   "mimetype": "text/x-python",
   "name": "python",
   "nbconvert_exporter": "python",
   "pygments_lexer": "ipython3",
   "version": "3.6.5"
  }
 },
 "nbformat": 4,
 "nbformat_minor": 2
}
