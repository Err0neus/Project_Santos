{
 "cells": [
  {
   "cell_type": "markdown",
   "metadata": {},
   "source": [
    "# get sample data "
   ]
  },
  {
   "cell_type": "code",
   "execution_count": 4,
   "metadata": {},
   "outputs": [],
   "source": [
    "import discogs_client\n",
    "# authenticate to DISCOGS.COM\n",
    "token = 'FBvXNlFYwMjpXpOkCBYtlyNdawVggJqXcQZJLoJC'\n",
    "discogs = discogs_client.Client('myApp',  user_token= token)"
   ]
  },
  {
   "cell_type": "code",
   "execution_count": 1,
   "metadata": {},
   "outputs": [],
   "source": [
    "# name, year, first release discogs id\n",
    "albums = [\n",
    "    [\"From Her To Eternity\", 1984, 399486],\n",
    "    [\"The Firstborn Is Dead\", 1985, 407865],\n",
    "    [\"Your Funeral ... My Trial\", 1986, 4705533],\n",
    "    [\"Kicking Against The Pricks\", 1986, 431654],\n",
    "    [\"Tender Prey\", 1988, 325250],\n",
    "    [\"The Good Son\", 1990, 412390],\n",
    "    [\"Henry's Dream\", 1992, 386584],\n",
    "    [\"Let Love In\", 1994, 6539255],\n",
    "    [\"Murder Ballads\", 1996, 370564],\n",
    "    [\"The Boatman's Call\", 1997, 370607],\n",
    "    [\"No More Shall We Part\", 2001, 424340],\n",
    "    [\"Nocturama\", 2002, 380437],\n",
    "    [\"Abattoir Blues / The Lyre Of Orpheus\", 2004, 379708],\n",
    "    [\"Dig, Lazarus, Dig!!!\", 2008, 1268853],\n",
    "    [\"Push The Sky Away\", 2012, 4262582],\n",
    "    [\"Skeleton Tree\", 2016, 8989572],\n",
    "    [\"Ghosteen\", 2019, 14179590],\n",
    "]"
   ]
  },
  {
   "cell_type": "code",
   "execution_count": 2,
   "metadata": {},
   "outputs": [
    {
     "data": {
      "text/plain": [
       "17"
      ]
     },
     "execution_count": 2,
     "metadata": {},
     "output_type": "execute_result"
    }
   ],
   "source": [
    "len(albums)"
   ]
  },
  {
   "cell_type": "code",
   "execution_count": 6,
   "metadata": {},
   "outputs": [],
   "source": [
    "import pandas as pd\n",
    "import time"
   ]
  },
  {
   "cell_type": "code",
   "execution_count": 7,
   "metadata": {},
   "outputs": [],
   "source": [
    "def get_tracklists(albums_list):\n",
    "    # empty dataframe\n",
    "    albums_info = pd.DataFrame()\n",
    "    # empty list for each final column\n",
    "    col_year, col_album, col_track_position, col_track_title = [], [], [], []\n",
    "    # for every album\n",
    "    for album in albums_list:\n",
    "        # get the relase\n",
    "        release = discogs.release(album[2])\n",
    "        # get the release's master\n",
    "        release_master = release.master\n",
    "        # get master tracklist\n",
    "        tracklist = release_master.tracklist\n",
    "        # wait - too fast will disconnect the API\n",
    "        time.sleep(2)\n",
    "        # for each track populate the columns\n",
    "        for track in tracklist:\n",
    "            col_year.append(album[1])\n",
    "            col_album.append(album[0])\n",
    "            col_track_position.append(track.position)\n",
    "            col_track_title.append(track.title)\n",
    "    # populate the dataframe\n",
    "    albums_info['year'] = col_year\n",
    "    albums_info['album'] = col_album\n",
    "    albums_info['track_position'] = col_track_position\n",
    "    albums_info['track_title'] = col_track_title\n",
    "    # return dataframe\n",
    "    return albums_info\n"
   ]
  },
  {
   "cell_type": "code",
   "execution_count": 8,
   "metadata": {},
   "outputs": [],
   "source": [
    "albums_info = get_tracklists(albums)"
   ]
  },
  {
   "cell_type": "code",
   "execution_count": 9,
   "metadata": {},
   "outputs": [],
   "source": [
    "#cleand rows without track position - not tracks\n",
    "discog = albums_info[albums_info.track_position != ''].copy()"
   ]
  },
  {
   "cell_type": "code",
   "execution_count": 10,
   "metadata": {},
   "outputs": [],
   "source": [
    "discog.reset_index(inplace=True)"
   ]
  },
  {
   "cell_type": "code",
   "execution_count": 11,
   "metadata": {},
   "outputs": [],
   "source": [
    "discog.drop(columns=['index'],inplace=True)\n"
   ]
  },
  {
   "cell_type": "code",
   "execution_count": 12,
   "metadata": {},
   "outputs": [],
   "source": [
    "# overwrite track position with generated numbers instead of inconsistent source (i.e. vinyls are A1, A2, B1)\n",
    "for i in range(discog.shape[0]-1):\n",
    "    if i == 0 or discog.loc[i, 'album'] != discog.loc[i-1, 'album']:\n",
    "        discog.loc[i, 'track_position'] = 1\n",
    "    else:\n",
    "        discog.loc[i, 'track_position'] = int(discog.loc[i-1, 'track_position']) + 1\n",
    "#transform year into datetime datatype\n",
    "discog['year'] = pd.to_datetime(discog['year'], format='%Y').dt.year"
   ]
  },
  {
   "cell_type": "markdown",
   "metadata": {},
   "source": [
    "# look at sample"
   ]
  },
  {
   "cell_type": "code",
   "execution_count": 13,
   "metadata": {},
   "outputs": [
    {
     "data": {
      "text/html": [
       "<div>\n",
       "<style scoped>\n",
       "    .dataframe tbody tr th:only-of-type {\n",
       "        vertical-align: middle;\n",
       "    }\n",
       "\n",
       "    .dataframe tbody tr th {\n",
       "        vertical-align: top;\n",
       "    }\n",
       "\n",
       "    .dataframe thead th {\n",
       "        text-align: right;\n",
       "    }\n",
       "</style>\n",
       "<table border=\"1\" class=\"dataframe\">\n",
       "  <thead>\n",
       "    <tr style=\"text-align: right;\">\n",
       "      <th></th>\n",
       "      <th>year</th>\n",
       "      <th>album</th>\n",
       "      <th>track_position</th>\n",
       "      <th>track_title</th>\n",
       "    </tr>\n",
       "  </thead>\n",
       "  <tbody>\n",
       "    <tr>\n",
       "      <th>0</th>\n",
       "      <td>1984</td>\n",
       "      <td>From Her To Eternity</td>\n",
       "      <td>1</td>\n",
       "      <td>Avalanche</td>\n",
       "    </tr>\n",
       "    <tr>\n",
       "      <th>1</th>\n",
       "      <td>1984</td>\n",
       "      <td>From Her To Eternity</td>\n",
       "      <td>2</td>\n",
       "      <td>Cabin Fever!</td>\n",
       "    </tr>\n",
       "    <tr>\n",
       "      <th>2</th>\n",
       "      <td>1984</td>\n",
       "      <td>From Her To Eternity</td>\n",
       "      <td>3</td>\n",
       "      <td>Well Of Misery</td>\n",
       "    </tr>\n",
       "    <tr>\n",
       "      <th>3</th>\n",
       "      <td>1984</td>\n",
       "      <td>From Her To Eternity</td>\n",
       "      <td>4</td>\n",
       "      <td>From Her To Eternity</td>\n",
       "    </tr>\n",
       "    <tr>\n",
       "      <th>4</th>\n",
       "      <td>1984</td>\n",
       "      <td>From Her To Eternity</td>\n",
       "      <td>5</td>\n",
       "      <td>Saint Huck</td>\n",
       "    </tr>\n",
       "  </tbody>\n",
       "</table>\n",
       "</div>"
      ],
      "text/plain": [
       "   year                 album track_position           track_title\n",
       "0  1984  From Her To Eternity              1             Avalanche\n",
       "1  1984  From Her To Eternity              2          Cabin Fever!\n",
       "2  1984  From Her To Eternity              3        Well Of Misery\n",
       "3  1984  From Her To Eternity              4  From Her To Eternity\n",
       "4  1984  From Her To Eternity              5            Saint Huck"
      ]
     },
     "execution_count": 13,
     "metadata": {},
     "output_type": "execute_result"
    }
   ],
   "source": [
    "discog.head()"
   ]
  },
  {
   "cell_type": "code",
   "execution_count": 14,
   "metadata": {},
   "outputs": [],
   "source": [
    "# will display a button to PRINT Discography."
   ]
  },
  {
   "cell_type": "code",
   "execution_count": 16,
   "metadata": {},
   "outputs": [
    {
     "name": "stdout",
     "output_type": "stream",
     "text": [
      "1984 From Her To Eternity\n",
      "1985 The Firstborn Is Dead\n",
      "1986 Your Funeral ... My Trial\n",
      "1986 Kicking Against The Pricks\n",
      "1988 Tender Prey\n",
      "1990 The Good Son\n",
      "1992 Henry's Dream\n",
      "1994 Let Love In\n",
      "1996 Murder Ballads\n",
      "1997 The Boatman's Call\n",
      "2001 No More Shall We Part\n",
      "2002 Nocturama\n",
      "2004 Abattoir Blues / The Lyre Of Orpheus\n",
      "2008 Dig, Lazarus, Dig!!!\n",
      "2012 Push The Sky Away\n",
      "2016 Skeleton Tree\n",
      "2019 Ghosteen\n"
     ]
    }
   ],
   "source": [
    "def show_discography():\n",
    "    for i, r in discog[['year', 'album']].drop_duplicates().iterrows():\n",
    "        print(r['year'], r['album'])\n",
    "show_discography()"
   ]
  },
  {
   "cell_type": "code",
   "execution_count": 17,
   "metadata": {},
   "outputs": [],
   "source": [
    "discog.to_csv(\"sample_discography.csv\", index=False)"
   ]
  }
 ],
 "metadata": {
  "kernelspec": {
   "display_name": "Python 3",
   "language": "python",
   "name": "python3"
  },
  "language_info": {
   "codemirror_mode": {
    "name": "ipython",
    "version": 3
   },
   "file_extension": ".py",
   "mimetype": "text/x-python",
   "name": "python",
   "nbconvert_exporter": "python",
   "pygments_lexer": "ipython3",
   "version": "3.7.0"
  },
  "toc": {
   "base_numbering": 1,
   "nav_menu": {},
   "number_sections": true,
   "sideBar": true,
   "skip_h1_title": false,
   "title_cell": "Table of Contents",
   "title_sidebar": "Contents",
   "toc_cell": false,
   "toc_position": {},
   "toc_section_display": true,
   "toc_window_display": false
  }
 },
 "nbformat": 4,
 "nbformat_minor": 2
}
