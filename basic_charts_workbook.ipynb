{
 "cells": [
  {
   "cell_type": "markdown",
   "metadata": {},
   "source": [
    "# get sample data "
   ]
  },
  {
   "cell_type": "code",
   "execution_count": 1,
   "metadata": {},
   "outputs": [],
   "source": [
    "import discogs_client\n",
    "# authenticate to DISCOGS.COM\n",
    "token = 'FBvXNlFYwMjpXpOkCBYtlyNdawVggJqXcQZJLoJC'\n",
    "discogs = discogs_client.Client('myApp',  user_token= token)"
   ]
  },
  {
   "cell_type": "code",
   "execution_count": 2,
   "metadata": {},
   "outputs": [],
   "source": [
    "# name, year, first release discogs id\n",
    "albums = [\n",
    "    [\"From Her To Eternity\", 1984, 399486],\n",
    "    [\"The Firstborn Is Dead\", 1985, 407865],\n",
    "    [\"Your Funeral ... My Trial\", 1986, 4705533],\n",
    "    [\"Kicking Against The Pricks\", 1986, 431654],\n",
    "    [\"Tender Prey\", 1988, 325250],\n",
    "    [\"The Good Son\", 1990, 412390],\n",
    "    [\"Henry's Dream\", 1992, 386584],\n",
    "    [\"Let Love In\", 1994, 6539255],\n",
    "    [\"Murder Ballads\", 1996, 370564],\n",
    "    [\"The Boatman's Call\", 1997, 370607],\n",
    "    [\"No More Shall We Part\", 2001, 424340],\n",
    "    [\"Nocturama\", 2002, 380437],\n",
    "    [\"Abattoir Blues / The Lyre Of Orpheus\", 2004, 379708],\n",
    "    [\"Dig, Lazarus, Dig!!!\", 2008, 1268853],\n",
    "    [\"Push The Sky Away\", 2012, 4262582],\n",
    "    [\"Skeleton Tree\", 2016, 8989572],\n",
    "    [\"Ghosteen\", 2019, 14179590],\n",
    "]"
   ]
  },
  {
   "cell_type": "code",
   "execution_count": 3,
   "metadata": {},
   "outputs": [],
   "source": [
    "import pandas as pd\n",
    "import time"
   ]
  },
  {
   "cell_type": "code",
   "execution_count": 4,
   "metadata": {},
   "outputs": [],
   "source": [
    "def get_tracklists(albums_list):\n",
    "    # empty dataframe\n",
    "    albums_info = pd.DataFrame()\n",
    "    # empty list for each final column\n",
    "    col_year, col_album, col_track_position, col_track_title = [], [], [], []\n",
    "    # for every album\n",
    "    for album in albums_list:\n",
    "        # get the relase\n",
    "        release = discogs.release(album[2])\n",
    "        # get the release's master\n",
    "        release_master = release.master\n",
    "        # get master tracklist\n",
    "        tracklist = release_master.tracklist\n",
    "        # wait - too fast will disconnect the API\n",
    "        time.sleep(2)\n",
    "        # for each track populate the columns\n",
    "        for track in tracklist:\n",
    "            col_year.append(album[1])\n",
    "            col_album.append(album[0])\n",
    "            col_track_position.append(track.position)\n",
    "            col_track_title.append(track.title)\n",
    "    # populate the dataframe\n",
    "    albums_info['year'] = col_year\n",
    "    albums_info['album'] = col_album\n",
    "    albums_info['track_position'] = col_track_position\n",
    "    albums_info['track_title'] = col_track_title\n",
    "    # return dataframe\n",
    "    return albums_info\n"
   ]
  },
  {
   "cell_type": "code",
   "execution_count": 5,
   "metadata": {},
   "outputs": [],
   "source": [
    "albums_info = get_tracklists(albums)"
   ]
  },
  {
   "cell_type": "code",
   "execution_count": 20,
   "metadata": {},
   "outputs": [],
   "source": [
    "#cleand rows without track position - not tracks\n",
    "discog = albums_info[albums_info.track_position != ''].copy()"
   ]
  },
  {
   "cell_type": "code",
   "execution_count": 21,
   "metadata": {},
   "outputs": [],
   "source": [
    "discog.reset_index(inplace=True)"
   ]
  },
  {
   "cell_type": "code",
   "execution_count": 22,
   "metadata": {},
   "outputs": [],
   "source": [
    "discog.drop(columns=['index'],inplace=True)\n"
   ]
  },
  {
   "cell_type": "code",
   "execution_count": 23,
   "metadata": {},
   "outputs": [],
   "source": [
    "# overwrite track position with generated numbers instead of inconsistent source (i.e. vinyls are A1, A2, B1)\n",
    "for i in range(discog.shape[0]-1):\n",
    "    if i == 0 or discog.loc[i, 'album'] != discog.loc[i-1, 'album']:\n",
    "        discog.loc[i, 'track_position'] = 1\n",
    "    else:\n",
    "        discog.loc[i, 'track_position'] = int(discog.loc[i-1, 'track_position']) + 1"
   ]
  },
  {
   "cell_type": "markdown",
   "metadata": {},
   "source": [
    "# look at sample"
   ]
  },
  {
   "cell_type": "code",
   "execution_count": 27,
   "metadata": {},
   "outputs": [
    {
     "data": {
      "text/html": [
       "<div>\n",
       "<style scoped>\n",
       "    .dataframe tbody tr th:only-of-type {\n",
       "        vertical-align: middle;\n",
       "    }\n",
       "\n",
       "    .dataframe tbody tr th {\n",
       "        vertical-align: top;\n",
       "    }\n",
       "\n",
       "    .dataframe thead th {\n",
       "        text-align: right;\n",
       "    }\n",
       "</style>\n",
       "<table border=\"1\" class=\"dataframe\">\n",
       "  <thead>\n",
       "    <tr style=\"text-align: right;\">\n",
       "      <th></th>\n",
       "      <th>year</th>\n",
       "      <th>album</th>\n",
       "      <th>track_position</th>\n",
       "      <th>track_title</th>\n",
       "    </tr>\n",
       "  </thead>\n",
       "  <tbody>\n",
       "    <tr>\n",
       "      <th>0</th>\n",
       "      <td>1984</td>\n",
       "      <td>From Her To Eternity</td>\n",
       "      <td>1</td>\n",
       "      <td>Avalanche</td>\n",
       "    </tr>\n",
       "    <tr>\n",
       "      <th>1</th>\n",
       "      <td>1984</td>\n",
       "      <td>From Her To Eternity</td>\n",
       "      <td>2</td>\n",
       "      <td>Cabin Fever!</td>\n",
       "    </tr>\n",
       "    <tr>\n",
       "      <th>2</th>\n",
       "      <td>1984</td>\n",
       "      <td>From Her To Eternity</td>\n",
       "      <td>3</td>\n",
       "      <td>Well Of Misery</td>\n",
       "    </tr>\n",
       "    <tr>\n",
       "      <th>3</th>\n",
       "      <td>1984</td>\n",
       "      <td>From Her To Eternity</td>\n",
       "      <td>4</td>\n",
       "      <td>From Her To Eternity</td>\n",
       "    </tr>\n",
       "    <tr>\n",
       "      <th>4</th>\n",
       "      <td>1984</td>\n",
       "      <td>From Her To Eternity</td>\n",
       "      <td>5</td>\n",
       "      <td>Saint Huck</td>\n",
       "    </tr>\n",
       "  </tbody>\n",
       "</table>\n",
       "</div>"
      ],
      "text/plain": [
       "   year                 album track_position           track_title\n",
       "0  1984  From Her To Eternity              1             Avalanche\n",
       "1  1984  From Her To Eternity              2          Cabin Fever!\n",
       "2  1984  From Her To Eternity              3        Well Of Misery\n",
       "3  1984  From Her To Eternity              4  From Her To Eternity\n",
       "4  1984  From Her To Eternity              5            Saint Huck"
      ]
     },
     "execution_count": 27,
     "metadata": {},
     "output_type": "execute_result"
    }
   ],
   "source": [
    "discog.head()"
   ]
  },
  {
   "cell_type": "code",
   "execution_count": 34,
   "metadata": {},
   "outputs": [],
   "source": [
    "#transform year into datetime datatype\n",
    "discog['year'] = pd.to_datetime(discog['year'], format='%Y').dt.year"
   ]
  },
  {
   "cell_type": "markdown",
   "metadata": {},
   "source": [
    "# define functions to pivot data and bin by custom period groups"
   ]
  },
  {
   "cell_type": "code",
   "execution_count": 44,
   "metadata": {},
   "outputs": [],
   "source": [
    "def generate_period_bins(discog, bin_size):\n",
    "    '''returns list of period bins starting 0th year of the decade of first release'''\n",
    "    bins = []\n",
    "    start_year = int(str(discog.year.min())[:3]+'0')\n",
    "    last_year = int(str(discog.year.max())[:2]+str(int(str(discog.year.max())[2])+1)+'0')\n",
    "    year = start_year\n",
    "    while year < last_year:\n",
    "        bins.append(str(year) + '-' + str(year + bin_size-1))\n",
    "        year += bin_size\n",
    "    return bins"
   ]
  },
  {
   "cell_type": "code",
   "execution_count": 86,
   "metadata": {},
   "outputs": [],
   "source": [
    "def unique_per_period(discog, column, bin_size):\n",
    "    '''returns a dataframe with count of unique values within a column by defined bin size'''\n",
    "    data = {'period' : generate_period_bins(discog, bin_size),\n",
    "            column : []}\n",
    "    for period in data['period']:\n",
    "        data[column].append(len(discog[(discog['year'] >= int(period[:4])) & (discog['year'] <= int(period[5:]))][column].unique()))\n",
    "    \n",
    "    return pd.DataFrame.from_dict(data)"
   ]
  },
  {
   "cell_type": "code",
   "execution_count": 88,
   "metadata": {},
   "outputs": [],
   "source": [
    "def album_song_count_per_period(discog, bin_size):\n",
    "    '''returns a merged dataframe by period with counts of albums and songs per period'''\n",
    "    data_albums = unique_per_period(discog, 'album', bin_size)\n",
    "    data_songs = unique_per_period(discog, 'track_title', bin_size)\n",
    "    return data_albums.merge(data_songs, on = 'period')"
   ]
  },
  {
   "cell_type": "markdown",
   "metadata": {},
   "source": [
    "# define plot"
   ]
  },
  {
   "cell_type": "code",
   "execution_count": 93,
   "metadata": {},
   "outputs": [],
   "source": [
    "import matplotlib.pyplot as plt\n",
    "%matplotlib inline\n",
    "\n",
    "\n",
    "def plot_albums_songs_per_period(discog, bin_size):\n",
    "    '''plots the number of albums and songs per period'''\n",
    "    \n",
    "    data = album_song_count_per_period(discog, bin_size)\n",
    "    \n",
    "    fig, ax1 = plt.subplots(figsize=(11,7))\n",
    "\n",
    "    color = 'tab:red'\n",
    "    ax1.set_xlabel('period')\n",
    "    ax1.set_ylabel('number of albums', color=color)\n",
    "    ax1.plot(data.period, data.album, color=color)\n",
    "    ax1.tick_params(axis='y', labelcolor=color)\n",
    "    ax1.tick_params(axis='x', labelrotation=45)\n",
    "\n",
    "    ax2 = ax1.twinx()  # instantiate a second axes that shares the same x-axis\n",
    "\n",
    "    color = 'tab:blue'\n",
    "    ax2.set_ylabel('number of songs', color=color)  # we already handled the x-label with ax1\n",
    "    ax2.plot(data.index.tolist(), data.track_title, color=color)\n",
    "    ax2.tick_params(axis='y', labelcolor=color)\n",
    "\n",
    "    fig.tight_layout()  # otherwise the right y-label may be slightly clipped\n",
    "\n",
    "    plt.show()"
   ]
  },
  {
   "cell_type": "code",
   "execution_count": 97,
   "metadata": {},
   "outputs": [
    {
     "data": {
      "image/png": "[encoded data removed]",
      "text/plain": [
       "<Figure size 792x504 with 2 Axes>"
      ]
     },
     "metadata": {},
     "output_type": "display_data"
    }
   ],
   "source": [
    "plot_albums_songs_per_period(discog,4)"
   ]
  },
  {
   "cell_type": "code",
   "execution_count": null,
   "metadata": {},
   "outputs": [],
   "source": []
  },
  {
   "cell_type": "code",
   "execution_count": 3,
   "metadata": {},
   "outputs": [
    {
     "data": {
      "application/vnd.jupyter.widget-view+json": {
       "model_id": "575c7f1410194d95b52bd95e42672f19",
       "version_major": 2,
       "version_minor": 0
      },
      "text/plain": [
       "IntSlider(value=1, description='Period (# of years)', max=10, min=1)"
      ]
     },
     "metadata": {},
     "output_type": "display_data"
    }
   ],
   "source": [
    "# UI\n",
    "import ipywidgets as widgets\n",
    "widgets.IntSlider(\n",
    "    value=1,\n",
    "    min=1,\n",
    "    max=10,\n",
    "    step=1,\n",
    "    description='Period (# of years)',\n",
    "    disabled=False,\n",
    "    continuous_update=True,\n",
    "    orientation='horizontal',\n",
    "    readout=True,\n",
    "    readout_format='d'\n",
    ")"
   ]
  },
  {
   "cell_type": "code",
   "execution_count": null,
   "metadata": {},
   "outputs": [],
   "source": []
  }
 ],
 "metadata": {
  "kernelspec": {
   "display_name": "Python 3",
   "language": "python",
   "name": "python3"
  },
  "language_info": {
   "codemirror_mode": {
    "name": "ipython",
    "version": 3
   },
   "file_extension": ".py",
   "mimetype": "text/x-python",
   "name": "python",
   "nbconvert_exporter": "python",
   "pygments_lexer": "ipython3",
   "version": "3.6.5"
  },
  "toc": {
   "base_numbering": 1,
   "nav_menu": {},
   "number_sections": true,
   "sideBar": true,
   "skip_h1_title": false,
   "title_cell": "Table of Contents",
   "title_sidebar": "Contents",
   "toc_cell": false,
   "toc_position": {},
   "toc_section_display": true,
   "toc_window_display": false
  }
 },
 "nbformat": 4,
 "nbformat_minor": 2
}
